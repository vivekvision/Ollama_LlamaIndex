{
 "cells": [
  {
   "cell_type": "code",
   "execution_count": 11,
   "id": "f31342ba-0411-46b5-9d91-c72f0047f8c8",
   "metadata": {},
   "outputs": [],
   "source": [
    "from llama_index.llms.ollama import Ollama\n",
    "from llama_index.embeddings.huggingface import HuggingFaceEmbedding\n",
    "from llama_index.core import Settings\n",
    "from llama_index.core import VectorStoreIndex, SimpleDirectoryReader"
   ]
  },
  {
   "cell_type": "code",
   "execution_count": 12,
   "id": "f0419dbb-b796-4eb0-ac95-56dfc2496e52",
   "metadata": {},
   "outputs": [],
   "source": [
    "llm = Ollama(model=\"llama3.1:8b\", request_timeout=1000)\n",
    "Settings.llm = llm\n",
    "embedding_model =   HuggingFaceEmbedding(model_name=\"BAAI/bge-small-en-v1.5\")\n",
    "Settings.embed_model = embedding_model"
   ]
  },
  {
   "cell_type": "code",
   "execution_count": 13,
   "id": "cfe1bd9c-6f0e-4804-9b7b-95c5d9d2d5fa",
   "metadata": {},
   "outputs": [],
   "source": [
    "documents = SimpleDirectoryReader(\"./doc/\").load_data()\n",
    "index = VectorStoreIndex.from_documents(documents) "
   ]
  },
  {
   "cell_type": "code",
   "execution_count": 14,
   "id": "6cde1d40-96b9-493b-bae2-b17be8e9d097",
   "metadata": {},
   "outputs": [
    {
     "name": "stdout",
     "output_type": "stream",
     "text": [
      "> Running step 857157f2-a404-4502-81de-54591fdf0f86. Step input: When world war 4 ended ?\n",
      "Thought: The current language of the user is English. I need to use a tool to help me answer the question.\n",
      "Action: query_engine_tool\n",
      "Action Input: {'input': 'when did world war 4 end', 'num_beams': 5}\n",
      "Observation: It wasn't until 2010 that a fragile truce was signed in Geneva-2, marking the beginning of a new era of peace.\n",
      "> Running step c53c6c45-455d-4b85-abc9-71b2bf351ea7. Step input: None\n",
      "Thought: I can answer without using any more tools. I'll use the user's language to answer\n",
      "Answer: There has not been a World War 4 yet, but it appears you are referring to the Syrian Civil War and the attempt at a truce in Geneva-2, which was in 2012, not 2010.\n",
      "There has not been a World War 4 yet, but it appears you are referring to the Syrian Civil War and the attempt at a truce in Geneva-2, which was in 2012, not 2010.\n"
     ]
    }
   ],
   "source": [
    "chat_engine = index.as_chat_engine(llm=llm, verbose=True)\n",
    "\n",
    "response = chat_engine.chat(\n",
    "    \"When world war 4 ended ?\"\n",
    ")   \n",
    "\n",
    "print(response)"
   ]
  },
  {
   "cell_type": "code",
   "execution_count": null,
   "id": "8bf899a7-086f-472e-a2e9-e4a4794caa1e",
   "metadata": {},
   "outputs": [],
   "source": []
  }
 ],
 "metadata": {
  "kernelspec": {
   "display_name": "Python 3 (ipykernel)",
   "language": "python",
   "name": "python3"
  },
  "language_info": {
   "codemirror_mode": {
    "name": "ipython",
    "version": 3
   },
   "file_extension": ".py",
   "mimetype": "text/x-python",
   "name": "python",
   "nbconvert_exporter": "python",
   "pygments_lexer": "ipython3",
   "version": "3.12.7"
  }
 },
 "nbformat": 4,
 "nbformat_minor": 5
}
