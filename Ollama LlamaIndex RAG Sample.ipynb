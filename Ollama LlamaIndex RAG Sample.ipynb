{
 "cells": [
  {
   "cell_type": "code",
   "execution_count": 20,
   "id": "cc8e6df6-5c8a-496b-b6d3-50c74b336dae",
   "metadata": {},
   "outputs": [],
   "source": [
    "from llama_index.llms.ollama import Ollama"
   ]
  },
  {
   "cell_type": "code",
   "execution_count": 21,
   "id": "61723197-0f9d-4b0a-86c0-2dd3e700d262",
   "metadata": {},
   "outputs": [],
   "source": [
    "llm = Ollama(model=\"llama3.1:8b\", request_timeout=1000)"
   ]
  },
  {
   "cell_type": "code",
   "execution_count": 22,
   "id": "4171c913-24ae-4284-92c5-2e7d0be7930e",
   "metadata": {},
   "outputs": [],
   "source": [
    "from llama_index.core import VectorStoreIndex, SimpleDirectoryReader"
   ]
  },
  {
   "cell_type": "code",
   "execution_count": 23,
   "id": "f0419dbb-b796-4eb0-ac95-56dfc2496e52",
   "metadata": {},
   "outputs": [],
   "source": [
    "from llama_index.embeddings.huggingface import HuggingFaceEmbedding\n",
    "from llama_index.core import Settings\n",
    "\n",
    "Settings.embed_model = HuggingFaceEmbedding(\n",
    "    model_name=\"BAAI/bge-small-en-v1.5\"\n",
    ")"
   ]
  },
  {
   "cell_type": "code",
   "execution_count": 24,
   "id": "b75ed0a8-207a-4f82-b81a-994d312c8f56",
   "metadata": {},
   "outputs": [],
   "source": [
    "Settings.llm = llm"
   ]
  },
  {
   "cell_type": "code",
   "execution_count": 25,
   "id": "c33df6f2-87a8-44fd-aa25-5c878b39d439",
   "metadata": {},
   "outputs": [],
   "source": [
    "documents = SimpleDirectoryReader(\"./doc/\").load_data()\n",
    "\n",
    "index = VectorStoreIndex.from_documents(documents) \n",
    "\n",
    "query_engine = index.as_query_engine()"
   ]
  },
  {
   "cell_type": "code",
   "execution_count": 26,
   "id": "0d873845-66f6-4a76-b5aa-129af17367f3",
   "metadata": {},
   "outputs": [
    {
     "name": "stdout",
     "output_type": "stream",
     "text": [
      "The conflict reached its climax with Astra-9's global shutdown in 2009. The subsequent fragile truce was signed in 2010, marking a turning point towards rebuilding and a new system of governance.\n"
     ]
    }
   ],
   "source": [
    "response = query_engine.query(\"Which year world war 4 ended\")\n",
    "\n",
    "print(response)"
   ]
  },
  {
   "cell_type": "code",
   "execution_count": null,
   "id": "8bf899a7-086f-472e-a2e9-e4a4794caa1e",
   "metadata": {},
   "outputs": [],
   "source": []
  }
 ],
 "metadata": {
  "kernelspec": {
   "display_name": "Python 3 (ipykernel)",
   "language": "python",
   "name": "python3"
  },
  "language_info": {
   "codemirror_mode": {
    "name": "ipython",
    "version": 3
   },
   "file_extension": ".py",
   "mimetype": "text/x-python",
   "name": "python",
   "nbconvert_exporter": "python",
   "pygments_lexer": "ipython3",
   "version": "3.12.7"
  }
 },
 "nbformat": 4,
 "nbformat_minor": 5
}
