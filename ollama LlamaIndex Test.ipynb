{
 "cells": [
  {
   "cell_type": "code",
   "execution_count": 2,
   "id": "cc8e6df6-5c8a-496b-b6d3-50c74b336dae",
   "metadata": {},
   "outputs": [],
   "source": [
    "from llama_index.llms.ollama import Ollama"
   ]
  },
  {
   "cell_type": "code",
   "execution_count": 5,
   "id": "61723197-0f9d-4b0a-86c0-2dd3e700d262",
   "metadata": {},
   "outputs": [],
   "source": [
    "llm = Ollama(model=\"llama3.1:8b\", request_timeout=1000)"
   ]
  },
  {
   "cell_type": "code",
   "execution_count": 6,
   "id": "e7e85f55-29ed-47bc-b8c6-99d0da1fe36a",
   "metadata": {},
   "outputs": [],
   "source": [
    "resp = llm.complete(\"Who is Paul Graham?\")"
   ]
  },
  {
   "cell_type": "code",
   "execution_count": 7,
   "id": "da36f323-d2b6-4d6e-8bd5-2c74a73c00c5",
   "metadata": {},
   "outputs": [
    {
     "name": "stdout",
     "output_type": "stream",
     "text": [
      "Paul Graham is a British-American computer scientist, entrepreneur, and investor. He's best known for his work in the field of artificial intelligence (AI) and natural language processing (NLP), as well as his role as a founder of several successful startups.\n",
      "\n",
      "Here are some key aspects of Paul Graham's life:\n",
      "\n",
      "**Early Life and Education**: Born in 1964 in London, UK, Graham grew up in an academic family. He attended the University of California, Berkeley, where he earned his undergraduate degree in mathematics and computer science. He then went on to earn a master's degree in artificial intelligence from the University of Edinburgh.\n",
      "\n",
      "**Career**: In the late 1980s, Graham co-founded Viaweb (later acquired by Yahoo!), which was one of the first online shopping carts. This venture made him an early millionaire and laid the groundwork for his future success. He sold Viaweb to Yahoo! in 1998 for $49 million.\n",
      "\n",
      "**Artificial Intelligence Research**: In 2002, Graham co-founded a company called Viacomp (which later became Viaticus), which focused on AI research. During this time, he worked with some of the top researchers in the field, including Andrew Moore and Stuart Russell.\n",
      "\n",
      "**Startup Incubator Y Combinator**: In 2005, Graham co-founded Y Combinator (YC) with his fellow entrepreneur Robert Tappan Morris. YC is a startup incubator that invests in seed-stage startups, providing funding and mentorship to entrepreneurs. Since its inception, YC has become one of the most successful startup accelerators in the world, having backed companies like Dropbox, Airbnb, Reddit, and more.\n",
      "\n",
      "**Writing and Speaking**: Graham has written extensively on topics such as entrepreneurship, AI, and philosophy. He publishes essays and articles on his blog, where he shares insights from his own experiences and observations about technology, business, and society.\n",
      "\n",
      "**Personal Views**: Paul Graham is known for his contrarian views on various aspects of life, including politics, economics, and social issues. He's written about topics like the benefits of being a startup founder, the importance of intellectual humility, and the impact of artificial intelligence on humanity.\n",
      "\n",
      "Today, Graham remains an influential figure in the tech world, where he continues to advise startups through Y Combinator and share his thoughts on various subjects through writing and public speaking.\n"
     ]
    }
   ],
   "source": [
    "print(resp)"
   ]
  },
  {
   "cell_type": "code",
   "execution_count": null,
   "id": "4171c913-24ae-4284-92c5-2e7d0be7930e",
   "metadata": {},
   "outputs": [],
   "source": []
  }
 ],
 "metadata": {
  "kernelspec": {
   "display_name": "Python 3 (ipykernel)",
   "language": "python",
   "name": "python3"
  },
  "language_info": {
   "codemirror_mode": {
    "name": "ipython",
    "version": 3
   },
   "file_extension": ".py",
   "mimetype": "text/x-python",
   "name": "python",
   "nbconvert_exporter": "python",
   "pygments_lexer": "ipython3",
   "version": "3.12.7"
  }
 },
 "nbformat": 4,
 "nbformat_minor": 5
}
